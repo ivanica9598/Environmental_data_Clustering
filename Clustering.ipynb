{
 "cells": [
  {
   "cell_type": "markdown",
   "metadata": {},
   "source": [
    "## Analiza Environmental data: Clustering"
   ]
  },
  {
   "cell_type": "markdown",
   "metadata": {},
   "source": [
    "### Prvi korak"
   ]
  },
  {
   "cell_type": "markdown",
   "metadata": {},
   "source": [
    "Prvi korak je istraživanje podataka. Pre svega je bitno razumeti kontekst i priču iza podataka da \n",
    "bi output bilo koje analize mogao da bude validan. Zato vršimo početno istraživanje podataka, \n",
    "koje služi kao određivanje osnovnih podataka o samim podacima, kao što je tip podataka, \n",
    "vrednosti, jedinice, a onda i dao analitike, gde spada vizualizacija, posmatranje mean, median \n",
    "values, variation i standard deviation, histogram, distribution podataka."
   ]
  },
  {
   "cell_type": "code",
   "execution_count": null,
   "metadata": {
    "vscode": {
     "languageId": "plaintext"
    }
   },
   "outputs": [],
   "source": []
  },
  {
   "cell_type": "markdown",
   "metadata": {},
   "source": [
    "### Drugi korak"
   ]
  },
  {
   "cell_type": "markdown",
   "metadata": {},
   "source": [
    "Drugi korak je preprocesiranje podataka. Nakon istraživanja podataka, već imamo bolji uvid u \n",
    "kontekst, pa lakše možemo odrediti i metode preprocesiranja. U osnovne metode spada \n",
    "pronalaženje i ispunjavanje missing values (NaN) ukoliko ih ima, otklanjanje duplikata, \n",
    "resampling (poželjno na frekvenciji od 1 Hz), normalizacija/standardizacija i na kraju \n",
    "potencijalno dimensionality reduction. "
   ]
  },
  {
   "cell_type": "code",
   "execution_count": null,
   "metadata": {
    "vscode": {
     "languageId": "plaintext"
    }
   },
   "outputs": [],
   "source": []
  },
  {
   "cell_type": "markdown",
   "metadata": {},
   "source": [
    "### Treći korak"
   ]
  },
  {
   "cell_type": "markdown",
   "metadata": {},
   "source": [
    "Treći korak je primena algoritama, u našem slučaju je to hierarhijsko klasterovanje. Cilj je \n",
    "proučiti, istražiti i primeniti ovu metodu nad sada prečišćenim podacima. Primenu za početak \n",
    "ostvariti bez specificiranja broja klastera, vizualizovati, ispitati dendrogram i distance. Isprobati \n",
    "više različitih metrika za povezivanje podataka, kao što su euclidean, mahalanobis, i dr. Evaluirati \n",
    "povezanost klasterovanja uz pomoć cophenet correlation tehnike (ili neke druge)."
   ]
  },
  {
   "cell_type": "code",
   "execution_count": null,
   "metadata": {
    "vscode": {
     "languageId": "plaintext"
    }
   },
   "outputs": [],
   "source": []
  },
  {
   "cell_type": "markdown",
   "metadata": {},
   "source": [
    "### Četvrti korak"
   ]
  },
  {
   "cell_type": "markdown",
   "metadata": {},
   "source": [
    "Četvrti korak je odrediti optimalan broj klastera. Metode za to nisu striktno određene, tako da \n",
    "imate mogućnost eksperimentisanja više različitih načina, kao na primer Silhouette Score, \n",
    "Calinski-Harabasz, nešto treće ili eventualno i neka vrsta agregacije."
   ]
  },
  {
   "cell_type": "code",
   "execution_count": null,
   "metadata": {
    "vscode": {
     "languageId": "plaintext"
    }
   },
   "outputs": [],
   "source": []
  },
  {
   "cell_type": "markdown",
   "metadata": {},
   "source": [
    "### Peti korak"
   ]
  },
  {
   "cell_type": "markdown",
   "metadata": {},
   "source": [
    "Peti korak je primena algoritma sa dobijenim brojem klastera i evaluacija algoritama. Kad su u \n",
    "pitanju unsupervised metode kao klastering, obzirom da nemamo true data values, ovaj korak je \n",
    "malo teže precizno definisati. Osnovna metoda je vizualizacija, pored toga postoji više različitih \n",
    "metrika koje smisleno daju drugačije rezultate. Potrebno je primetiti neki obrazac po kome se \n",
    "podaci definišu i dele, pa kao takav opravdati u ponašanju realnih parametara, primer: primećeno \n",
    "je da period visoke temperature i niskog pritiska predstavlja posebno stanje sistema."
   ]
  },
  {
   "cell_type": "code",
   "execution_count": null,
   "metadata": {
    "vscode": {
     "languageId": "plaintext"
    }
   },
   "outputs": [],
   "source": []
  },
  {
   "cell_type": "markdown",
   "metadata": {},
   "source": [
    "Krajnji rezultat se očekuje u kao .csv fajl koji ima 2 kolone. Prva kolona predstavlja vremena \n",
    "(timestamp), dok su druge dve kolone niz brojeva u skladu sa tim koliko klastera je detektovano i kome \n",
    "koji podatak pripada."
   ]
  }
 ],
 "metadata": {
  "language_info": {
   "name": "python"
  }
 },
 "nbformat": 4,
 "nbformat_minor": 2
}
